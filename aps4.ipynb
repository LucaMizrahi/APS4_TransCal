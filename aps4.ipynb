{
 "cells": [
  {
   "cell_type": "code",
   "execution_count": 23,
   "metadata": {},
   "outputs": [],
   "source": [
    "from funcoesTermosol import *\n",
    "import pandas as pd\n",
    "import numpy as np"
   ]
  },
  {
   "cell_type": "code",
   "execution_count": 24,
   "metadata": {},
   "outputs": [],
   "source": [
    "# Funções para o cálculo da matriz de rigidez\n",
    "\n",
    "def gauss_seidel(ite, tol, k, f):\n",
    "    u = np.zeros((k.shape[0], 1))\n",
    "    u_ant = np.zeros((k.shape[0], 1))\n",
    "    for n in range(ite):\n",
    "        for i in range(k.shape[0]): #percorre as linhas da matriz\n",
    "            soma = 0\n",
    "            for j in range(k.shape[1]): #percorre as colunas da matriz\n",
    "                if i != j:\n",
    "                    soma += k[i, j] * u[j]\n",
    "            u[i] = (f[i] - soma) / k[i, i]\n",
    "        erro = ((u - u_ant) / u).max(axis=0)\n",
    "        if erro < tol:\n",
    "            return u, n\n",
    "        u_ant = np.copy(u)\n",
    "    return u, n\n",
    "\n",
    "def jacobi(ite, tol, k, f):\n",
    "    u = np.zeros((k.shape[0], 1))\n",
    "    u_ant = np.zeros((k.shape[0], 1))\n",
    "    for n in range(ite):\n",
    "        for i in range(k.shape[0]): #percorre as linhas da matriz\n",
    "            soma = 0\n",
    "            for j in range(k.shape[1]): #percorre as colunas da matriz\n",
    "                if i != j:\n",
    "                    soma += k[i, j] * u_ant[j]\n",
    "            u[i] = (f[i] - soma) / k[i, i]\n",
    "        erro = ((u - u_ant) / u).max(axis=0)\n",
    "        if erro < tol:\n",
    "            return u, n\n",
    "        u_ant = np.copy(u)\n",
    "    return u, n"
   ]
  },
  {
   "cell_type": "code",
   "execution_count": 25,
   "metadata": {},
   "outputs": [
    {
     "data": {
      "text/plain": [
       "[3,\n",
       " array([[0. , 0. , 0.3],\n",
       "        [0. , 0.4, 0.4]]),\n",
       " 3,\n",
       " array([[1.0e+00, 2.0e+00, 2.1e+11, 2.0e-04],\n",
       "        [2.0e+00, 3.0e+00, 2.1e+11, 2.0e-04],\n",
       "        [3.0e+00, 1.0e+00, 2.1e+11, 2.0e-04]]),\n",
       " 2,\n",
       " array([[   0.],\n",
       "        [   0.],\n",
       "        [   0.],\n",
       "        [   0.],\n",
       "        [ 150.],\n",
       "        [-100.]]),\n",
       " 3,\n",
       " array([[0.],\n",
       "        [2.],\n",
       "        [3.]])]"
      ]
     },
     "execution_count": 25,
     "metadata": {},
     "output_type": "execute_result"
    }
   ],
   "source": [
    "[nn,N,nm,Inc,nc,F,nr,R] = importa('entrada.xls')\n",
    "dados = [nn,N,nm,Inc,nc,F,nr,R] \n",
    "dados"
   ]
  },
  {
   "cell_type": "code",
   "execution_count": 66,
   "metadata": {},
   "outputs": [
    {
     "name": "stdout",
     "output_type": "stream",
     "text": [
      "[0, 1, 2, 3]\n",
      "[2, 3, 4, 5]\n",
      "[0, 1, 4, 5]\n"
     ]
    },
    {
     "data": {
      "text/plain": [
       "(array([[ 3.0240e+07,  4.0320e+07,  0.0000e+00,  0.0000e+00, -3.0240e+07,\n",
       "         -4.0320e+07],\n",
       "        [ 4.0320e+07,  1.5876e+08,  0.0000e+00, -1.0500e+08, -4.0320e+07,\n",
       "         -5.3760e+07],\n",
       "        [ 0.0000e+00,  0.0000e+00,  1.4000e+08,  0.0000e+00, -1.4000e+08,\n",
       "          0.0000e+00],\n",
       "        [ 0.0000e+00, -1.0500e+08,  0.0000e+00,  1.0500e+08,  0.0000e+00,\n",
       "          0.0000e+00],\n",
       "        [-3.0240e+07, -4.0320e+07, -1.4000e+08,  0.0000e+00,  1.7024e+08,\n",
       "          4.0320e+07],\n",
       "        [-4.0320e+07, -5.3760e+07,  0.0000e+00,  0.0000e+00,  4.0320e+07,\n",
       "          5.3760e+07]]),\n",
       " array([[0.4],\n",
       "        [0.3],\n",
       "        [0.5]]),\n",
       " [0, 1, 4, 5])"
      ]
     },
     "execution_count": 66,
     "metadata": {},
     "output_type": "execute_result"
    }
   ],
   "source": [
    "# Criação da matriz de rigidez global\n",
    "Kg = np.zeros((2*nn,2*nn))\n",
    "\n",
    "# Vetor de Comprimentos dos Membros\n",
    "L_vet = np.zeros((nm,1))\n",
    "\n",
    "# Vetor de Cossenos dos Membros\n",
    "Cos_vet = np.zeros((nm,1))\n",
    "\n",
    "# Vetor de Senos dos Membros\n",
    "Sen_vet = np.zeros((nm,1))\n",
    "\n",
    "for i in range(nm):\n",
    "    n1 = int(Inc[i][0])\n",
    "    n2 = int(Inc[i][1])\n",
    "    x_n1 = N[0][n1-1]\n",
    "    y_n1 = N[1][n1-1]\n",
    "\n",
    "    x_n2 = N[0][n2-1]\n",
    "    y_n2 = N[1][n2-1]\n",
    "\n",
    "    L = np.sqrt((x_n2-x_n1)**2 + (y_n2-y_n1)**2)\n",
    "\n",
    "    # Definição de vetores importantes\n",
    "    L_vet[i] = L\n",
    "\n",
    "    # Cálculo de cosseno e seno\n",
    "    c = (x_n2-x_n1)/L\n",
    "    s = (y_n2-y_n1)/L\n",
    "\n",
    "    # Definição de vetores importantes\n",
    "    Cos_vet[i] = c\n",
    "    Sen_vet[i] = s\n",
    "\n",
    "    E = Inc[i][2]\n",
    "    A = Inc[i][3]\n",
    "\n",
    "    k = (E*A)/L * np.array([[c**2, c*s, -c**2, -c*s],  # matriz de rigidez local\n",
    "                            [c*s, s**2, -c*s, -s**2],\n",
    "                            [-c**2, -c*s, c**2, c*s],\n",
    "                            [-c*s, -s**2, c*s, s**2]])\n",
    "\n",
    "    k = np.array(k)\n",
    "\n",
    "    indices = sorted([2*n1-2, 2*n1-1, 2*n2-2, 2*n2-1])\n",
    "    print(indices)\n",
    "\n",
    "    for i in range(4):\n",
    "        for j in range(4):\n",
    "            Kg[indices[i], indices[j]] += k[i, j]\n",
    "    \n",
    "Kg, L_vet, indices"
   ]
  },
  {
   "cell_type": "code",
   "execution_count": 27,
   "metadata": {},
   "outputs": [
    {
     "data": {
      "text/plain": [
       "(array([[ 1.5876e+08, -4.0320e+07, -5.3760e+07],\n",
       "        [-4.0320e+07,  1.7024e+08,  4.0320e+07],\n",
       "        [-5.3760e+07,  4.0320e+07,  5.3760e+07]]),\n",
       " array([[   0.],\n",
       "        [ 150.],\n",
       "        [-100.]]),\n",
       " [0, 2, 3])"
      ]
     },
     "execution_count": 27,
     "metadata": {},
     "output_type": "execute_result"
    }
   ],
   "source": [
    "# Remover linhas dos graus de liberdade restritos\n",
    "R = [int(i[0]) for i in R.tolist()]\n",
    "Kg = np.delete(Kg, R, axis=0)\n",
    "F = np.delete(F, R, axis=0)\n",
    "\n",
    "# Remover colunas dos graus de liberdade restritos\n",
    "Kg = np.delete(Kg, R, axis=1)\n",
    "\n",
    "Kg, F, R"
   ]
  },
  {
   "cell_type": "code",
   "execution_count": 28,
   "metadata": {},
   "outputs": [
    {
     "name": "stdout",
     "output_type": "stream",
     "text": [
      "Método de Jacobi\n",
      "[[-9.52380958e-07]\n",
      " [ 1.60714286e-06]\n",
      " [-4.01785713e-06]] 99\n",
      "-----------------------------\n",
      "Método de Gauss-Seidel\n",
      "[[-9.52380952e-07]\n",
      " [ 1.60714286e-06]\n",
      " [-4.01785714e-06]] 22\n"
     ]
    },
    {
     "name": "stderr",
     "output_type": "stream",
     "text": [
      "C:\\Users\\lucam\\AppData\\Local\\Temp\\ipykernel_3740\\1705135695.py:27: RuntimeWarning: invalid value encountered in divide\n",
      "  erro = ((u - u_ant) / u).max(axis=0)\n",
      "C:\\Users\\lucam\\AppData\\Local\\Temp\\ipykernel_3740\\1705135695.py:11: RuntimeWarning: invalid value encountered in divide\n",
      "  erro = ((u - u_ant) / u).max(axis=0)\n"
     ]
    }
   ],
   "source": [
    "# Resolver o sistema de equações para obter os deslocamentos nodais\n",
    "ite = 100\n",
    "tol = 1e-10\n",
    "u_j, n_j = jacobi(ite, tol, Kg, F)\n",
    "u_gs, n_gs = gauss_seidel(ite, tol, Kg, F)\n",
    "\n",
    "print(\"Método de Jacobi\")\n",
    "print(u_j, n_j)\n",
    "print(\"-----------------------------\")\n",
    "print(\"Método de Gauss-Seidel\")\n",
    "print(u_gs, n_gs)"
   ]
  },
  {
   "cell_type": "code",
   "execution_count": 37,
   "metadata": {},
   "outputs": [
    {
     "data": {
      "text/plain": [
       "array([[ 0.00000000e+00],\n",
       "       [-9.52380952e-07],\n",
       "       [ 0.00000000e+00],\n",
       "       [ 0.00000000e+00],\n",
       "       [ 1.60714286e-06],\n",
       "       [-4.01785714e-06]])"
      ]
     },
     "execution_count": 37,
     "metadata": {},
     "output_type": "execute_result"
    }
   ],
   "source": [
    "# Construção da matriz de deslocamentos nodais\n",
    "u_desl = np.zeros((2*nn, 1))\n",
    "\n",
    "c = 0\n",
    "for i in range(2*nn):\n",
    "    if i not in R:\n",
    "        # Condição para extrair os dados da solução de Gauss-Seidel de forma geral\n",
    "        u_desl[i] = u_gs[c]\n",
    "        c += 1\n",
    "    else:\n",
    "        u_desl[i] = 0\n",
    "\n",
    "u_desl \n"
   ]
  },
  {
   "cell_type": "code",
   "execution_count": 38,
   "metadata": {},
   "outputs": [],
   "source": [
    "# Calcular reações de apoio\t\n"
   ]
  },
  {
   "cell_type": "code",
   "execution_count": 65,
   "metadata": {},
   "outputs": [
    {
     "name": "stdout",
     "output_type": "stream",
     "text": [
      "[[2.38095238e-06]]\n",
      "[[5.35714286e-06]]\n",
      "[[2.97619048e-06]]\n",
      "[[ 0. ]\n",
      " [ 1. ]\n",
      " [-0.6]]\n",
      "[[ 1. ]\n",
      " [ 0. ]\n",
      " [-0.8]]\n",
      "[[0.4]\n",
      " [0.3]\n",
      " [0.5]]\n"
     ]
    }
   ],
   "source": [
    "# Calculo das Deformações e Tensões nos Elementos\n",
    "\n",
    "# Inicializa a matriz de deformações\n",
    "Def_vet = np.zeros((nm,1))\n",
    "\n",
    "# Inicializa a matriz de tensões\n",
    "Ten_vet = np.zeros((nm,1))\n",
    "\n",
    "# Inicializa a matriz de forças\n",
    "F_vet = np.zeros((nm,1))\n",
    "\n",
    "# Extração dos módulos de elasticidade e áreas dos elementos\n",
    "for i in range(nm):\n",
    "    # Nós do elemento\n",
    "    n1 = int(Inc[i][0])\n",
    "    n2 = int(Inc[i][1])\n",
    "\n",
    "    # Módulo de elasticidade\n",
    "    E = Inc[i][2]\n",
    "    L = L_vet[i]\n",
    "\n",
    "    indices = sorted([2*n1-2, 2*n1-1, 2*n2-2, 2*n2-1])\n",
    "    #print(indices)\n",
    "\n",
    "    # Matriz de deformação do elemento\n",
    "    vetor_cos_sen = np.transpose(np.array([-Cos_vet[i], -Sen_vet[i], Cos_vet[i], Sen_vet[i]]))\n",
    "    Def = (1/L) * np.dot(vetor_cos_sen, u_desl[indices])\n",
    "    print(Def)\n",
    "\n",
    "    # Matriz de tensão do elemento\n",
    "    #Ten_vet[i] = E * Def\n",
    "\n",
    "    # Tensão = F / A -> F = E * A * Def\n",
    "    #A = Inc[i][3]\n",
    "    #F_vet[i] = E * A * Def\n",
    "\n",
    "#print(np.transpose(np.array([-Cos_vet[i], -Sen_vet[i], Cos_vet[i], Sen_vet[i]])).shape)\n",
    "#print(u_desl[indices].shape)\n",
    "print(Cos_vet)\n",
    "print(Sen_vet)\n",
    "print(L_vet)"
   ]
  },
  {
   "cell_type": "code",
   "execution_count": 59,
   "metadata": {},
   "outputs": [],
   "source": [
    "# Deformações"
   ]
  },
  {
   "cell_type": "code",
   "execution_count": 47,
   "metadata": {},
   "outputs": [],
   "source": [
    "# Forças internas"
   ]
  },
  {
   "cell_type": "code",
   "execution_count": 33,
   "metadata": {},
   "outputs": [],
   "source": [
    "# Tensões internas"
   ]
  }
 ],
 "metadata": {
  "kernelspec": {
   "display_name": "Python 3",
   "language": "python",
   "name": "python3"
  },
  "language_info": {
   "codemirror_mode": {
    "name": "ipython",
    "version": 3
   },
   "file_extension": ".py",
   "mimetype": "text/x-python",
   "name": "python",
   "nbconvert_exporter": "python",
   "pygments_lexer": "ipython3",
   "version": "3.11.3"
  }
 },
 "nbformat": 4,
 "nbformat_minor": 2
}
