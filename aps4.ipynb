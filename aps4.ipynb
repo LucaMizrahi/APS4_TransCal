{
 "cells": [
  {
   "cell_type": "code",
   "execution_count": 31,
   "metadata": {},
   "outputs": [],
   "source": [
    "from funcoesTermosol import *"
   ]
  },
  {
   "cell_type": "code",
   "execution_count": 32,
   "metadata": {},
   "outputs": [
    {
     "data": {
      "text/plain": [
       "(3,\n",
       " array([[0. , 0. , 0.3],\n",
       "        [0. , 0.4, 0.4]]),\n",
       " 3,\n",
       " array([[1.0e+00, 2.0e+00, 2.1e+11, 2.0e-04],\n",
       "        [2.0e+00, 3.0e+00, 2.1e+11, 2.0e-04],\n",
       "        [3.0e+00, 1.0e+00, 2.1e+11, 2.0e-04]]),\n",
       " 2,\n",
       " array([[   0.],\n",
       "        [   0.],\n",
       "        [   0.],\n",
       "        [   0.],\n",
       "        [ 150.],\n",
       "        [-100.]]),\n",
       " 3,\n",
       " array([[0.],\n",
       "        [2.],\n",
       "        [3.]]))"
      ]
     },
     "execution_count": 32,
     "metadata": {},
     "output_type": "execute_result"
    }
   ],
   "source": [
    "dados = importa('entrada.xls')\n",
    "dados"
   ]
  },
  {
   "cell_type": "code",
   "execution_count": null,
   "metadata": {},
   "outputs": [],
   "source": []
  }
 ],
 "metadata": {
  "kernelspec": {
   "display_name": "Python 3",
   "language": "python",
   "name": "python3"
  },
  "language_info": {
   "codemirror_mode": {
    "name": "ipython",
    "version": 3
   },
   "file_extension": ".py",
   "mimetype": "text/x-python",
   "name": "python",
   "nbconvert_exporter": "python",
   "pygments_lexer": "ipython3",
   "version": "3.11.1"
  }
 },
 "nbformat": 4,
 "nbformat_minor": 2
}
