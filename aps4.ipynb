{
 "cells": [
  {
   "cell_type": "code",
   "execution_count": 1,
   "metadata": {},
   "outputs": [],
   "source": [
    "from funcoesTermosol import *\n",
    "import pandas as pd\n",
    "import numpy as np"
   ]
  },
  {
   "cell_type": "code",
   "execution_count": 2,
   "metadata": {},
   "outputs": [
    {
     "data": {
      "text/plain": [
       "[3,\n",
       " array([[0. , 0. , 0.3],\n",
       "        [0. , 0.4, 0.4]]),\n",
       " 3,\n",
       " array([[1.0e+00, 2.0e+00, 2.1e+11, 2.0e-04],\n",
       "        [2.0e+00, 3.0e+00, 2.1e+11, 2.0e-04],\n",
       "        [3.0e+00, 1.0e+00, 2.1e+11, 2.0e-04]]),\n",
       " 2,\n",
       " array([[   0.],\n",
       "        [   0.],\n",
       "        [   0.],\n",
       "        [   0.],\n",
       "        [ 150.],\n",
       "        [-100.]]),\n",
       " 3,\n",
       " array([[0.],\n",
       "        [2.],\n",
       "        [3.]])]"
      ]
     },
     "execution_count": 2,
     "metadata": {},
     "output_type": "execute_result"
    }
   ],
   "source": [
    "[nn,N,nm,Inc,nc,F,nr,R] = importa('entrada.xls')\n",
    "dados = [nn,N,nm,Inc,nc,F,nr,R] \n",
    "dados"
   ]
  },
  {
   "cell_type": "code",
   "execution_count": 6,
   "metadata": {},
   "outputs": [
    {
     "name": "stdout",
     "output_type": "stream",
     "text": [
      "0.0 0.4\n"
     ]
    }
   ],
   "source": [
    "print(N[0][1], N[1][1])"
   ]
  },
  {
   "cell_type": "code",
   "execution_count": 5,
   "metadata": {},
   "outputs": [
    {
     "ename": "SyntaxError",
     "evalue": "incomplete input (982377198.py, line 11)",
     "output_type": "error",
     "traceback": [
      "\u001b[1;36m  Cell \u001b[1;32mIn[5], line 11\u001b[1;36m\u001b[0m\n\u001b[1;33m    \u001b[0m\n\u001b[1;37m    ^\u001b[0m\n\u001b[1;31mSyntaxError\u001b[0m\u001b[1;31m:\u001b[0m incomplete input\n"
     ]
    }
   ],
   "source": [
    "# Loop para definir as coordenadas, incidencias, forcas e restricoes de cada nó\n",
    "dict_nodes = {}\n",
    "for i in range(nm):\n",
    "    # Calculo da matriz de rigidez para cada um dos elementos \n"
   ]
  },
  {
   "cell_type": "code",
   "execution_count": null,
   "metadata": {},
   "outputs": [
    {
     "name": "stdout",
     "output_type": "stream",
     "text": [
      "[150.] [-100.]\n"
     ]
    }
   ],
   "source": [
    "u_force_node3 = F[4]\n",
    "v_force_node3 = F[5]\n",
    "print(u_force_node3, v_force_node3)"
   ]
  },
  {
   "cell_type": "code",
   "execution_count": null,
   "metadata": {},
   "outputs": [],
   "source": []
  }
 ],
 "metadata": {
  "kernelspec": {
   "display_name": "Python 3",
   "language": "python",
   "name": "python3"
  },
  "language_info": {
   "codemirror_mode": {
    "name": "ipython",
    "version": 3
   },
   "file_extension": ".py",
   "mimetype": "text/x-python",
   "name": "python",
   "nbconvert_exporter": "python",
   "pygments_lexer": "ipython3",
   "version": "3.10.6"
  }
 },
 "nbformat": 4,
 "nbformat_minor": 2
}
