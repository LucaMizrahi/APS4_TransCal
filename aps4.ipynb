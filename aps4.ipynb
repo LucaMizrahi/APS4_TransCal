{
 "cells": [
  {
   "cell_type": "code",
   "execution_count": 1,
   "metadata": {},
   "outputs": [],
   "source": [
    "from funcoesTermosol import *\n",
    "import pandas as pd\n",
    "import numpy as np"
   ]
  },
  {
   "cell_type": "code",
   "execution_count": 2,
   "metadata": {},
   "outputs": [],
   "source": [
    "def gauss_seidel(ite, tol, k, f):\n",
    "    u = np.zeros((k.shape[0], 1))\n",
    "    u_ant = np.zeros((k.shape[0], 1))\n",
    "    for n in range(ite):\n",
    "        for i in range(k.shape[0]): #percorre as linhas da matriz\n",
    "            soma = 0\n",
    "            for j in range(k.shape[1]): #percorre as colunas da matriz\n",
    "                if i != j:\n",
    "                    soma += k[i, j] * u[j]\n",
    "            u[i] = (f[i] - soma) / k[i, i]\n",
    "        erro = ((u - u_ant) / u).max(axis=0)\n",
    "        if erro < tol:\n",
    "            return u, n\n",
    "        u_ant = np.copy(u)\n",
    "    return u, n\n",
    "\n",
    "def jacobi(ite, tol, k, f):\n",
    "    u = np.zeros((k.shape[0], 1))\n",
    "    u_ant = np.zeros((k.shape[0], 1))\n",
    "    for n in range(ite):\n",
    "        for i in range(k.shape[0]): #percorre as linhas da matriz\n",
    "            soma = 0\n",
    "            for j in range(k.shape[1]): #percorre as colunas da matriz\n",
    "                if i != j:\n",
    "                    soma += k[i, j] * u_ant[j]\n",
    "            u[i] = (f[i] - soma) / k[i, i]\n",
    "\n",
    "        erro = ((u - u_ant) / u).max(axis=0)\n",
    "        # print(\"u: \", u)\n",
    "        if erro < tol:\n",
    "            return u, n\n",
    "        u_ant = np.copy(u)\n",
    "    return u, n"
   ]
  },
  {
   "cell_type": "code",
   "execution_count": 3,
   "metadata": {},
   "outputs": [
    {
     "data": {
      "text/plain": [
       "[3,\n",
       " array([[0. , 0. , 0.3],\n",
       "        [0. , 0.4, 0.4]]),\n",
       " 3,\n",
       " array([[1.0e+00, 2.0e+00, 2.1e+11, 2.0e-04],\n",
       "        [2.0e+00, 3.0e+00, 2.1e+11, 2.0e-04],\n",
       "        [3.0e+00, 1.0e+00, 2.1e+11, 2.0e-04]]),\n",
       " 2,\n",
       " array([[   0.],\n",
       "        [   0.],\n",
       "        [   0.],\n",
       "        [   0.],\n",
       "        [ 150.],\n",
       "        [-100.]]),\n",
       " 3,\n",
       " array([[0.],\n",
       "        [2.],\n",
       "        [3.]])]"
      ]
     },
     "execution_count": 3,
     "metadata": {},
     "output_type": "execute_result"
    }
   ],
   "source": [
    "[nn,N,nm,Inc,nc,F,nr,R] = importa('entrada.xls')\n",
    "dados = [nn,N,nm,Inc,nc,F,nr,R] \n",
    "dados"
   ]
  },
  {
   "cell_type": "code",
   "execution_count": 4,
   "metadata": {},
   "outputs": [
    {
     "data": {
      "text/plain": [
       "array([[ 3.0240e+07,  4.0320e+07,  0.0000e+00,  0.0000e+00, -3.0240e+07,\n",
       "        -4.0320e+07],\n",
       "       [ 4.0320e+07,  1.5876e+08,  0.0000e+00, -1.0500e+08, -4.0320e+07,\n",
       "        -5.3760e+07],\n",
       "       [ 0.0000e+00,  0.0000e+00,  1.4000e+08,  0.0000e+00, -1.4000e+08,\n",
       "         0.0000e+00],\n",
       "       [ 0.0000e+00, -1.0500e+08,  0.0000e+00,  1.0500e+08,  0.0000e+00,\n",
       "         0.0000e+00],\n",
       "       [-3.0240e+07, -4.0320e+07, -1.4000e+08,  0.0000e+00,  1.7024e+08,\n",
       "         4.0320e+07],\n",
       "       [-4.0320e+07, -5.3760e+07,  0.0000e+00,  0.0000e+00,  4.0320e+07,\n",
       "         5.3760e+07]])"
      ]
     },
     "execution_count": 4,
     "metadata": {},
     "output_type": "execute_result"
    }
   ],
   "source": [
    "# Criação da matriz de rigidez global\n",
    "\n",
    "Kg = np.zeros((2*nn,2*nn))\n",
    "\n",
    "for i in range(nm):\n",
    "    n1 = int(Inc[i][0])\n",
    "    n2 = int(Inc[i][1])\n",
    "    x_n1 = N[0][n1-1]\n",
    "    y_n1 = N[1][n1-1]\n",
    "\n",
    "    x_n2 = N[0][n2-1]\n",
    "    y_n2 = N[1][n2-1]\n",
    "\n",
    "    L = np.sqrt((x_n2-x_n1)**2 + (y_n2-y_n1)**2)\n",
    "    c = (x_n2-x_n1)/L\n",
    "    s = (y_n2-y_n1)/L\n",
    "\n",
    "    E = Inc[i][2]\n",
    "    A = Inc[i][3]\n",
    "\n",
    "    k = (E*A)/L * np.array([[c**2, c*s, -c**2, -c*s],  # matriz de rigidez local\n",
    "                            [c*s, s**2, -c*s, -s**2],\n",
    "                            [-c**2, -c*s, c**2, c*s],\n",
    "                            [-c*s, -s**2, c*s, s**2]])\n",
    "\n",
    "    k = np.array(k)\n",
    "\n",
    "    indices = sorted([2*n1-2, 2*n1-1, 2*n2-2, 2*n2-1])\n",
    "\n",
    "    for i in range(4):\n",
    "        for j in range(4):\n",
    "            Kg[indices[i], indices[j]] += k[i, j]\n",
    "    \n",
    "Kg\n",
    "     \n"
   ]
  },
  {
   "cell_type": "code",
   "execution_count": 5,
   "metadata": {},
   "outputs": [
    {
     "data": {
      "text/plain": [
       "(array([[ 1.5876e+08, -4.0320e+07, -5.3760e+07],\n",
       "        [-4.0320e+07,  1.7024e+08,  4.0320e+07],\n",
       "        [-5.3760e+07,  4.0320e+07,  5.3760e+07]]),\n",
       " array([[   0.],\n",
       "        [ 150.],\n",
       "        [-100.]]))"
      ]
     },
     "execution_count": 5,
     "metadata": {},
     "output_type": "execute_result"
    }
   ],
   "source": [
    "# Remover linhas dos graus de liberdade restritos\n",
    "R = [int(i[0]) for i in R.tolist()]\n",
    "Kg = np.delete(Kg, R, axis=0)\n",
    "F = np.delete(F, R, axis=0)\n",
    "\n",
    "# Remover colunas dos graus de liberdade restritos\n",
    "Kg = np.delete(Kg, R, axis=1)\n",
    "\n",
    "Kg, F"
   ]
  },
  {
   "cell_type": "code",
   "execution_count": 6,
   "metadata": {},
   "outputs": [
    {
     "name": "stdout",
     "output_type": "stream",
     "text": [
      "Método de Jacobi\n",
      "[[-9.52380958e-07]\n",
      " [ 1.60714286e-06]\n",
      " [-4.01785713e-06]] 99\n",
      "-----------------------------\n",
      "Método de Gauss-Seidel\n",
      "[[-9.52380952e-07]\n",
      " [ 1.60714286e-06]\n",
      " [-4.01785714e-06]] 22\n"
     ]
    },
    {
     "name": "stderr",
     "output_type": "stream",
     "text": [
      "C:\\Users\\arthu\\AppData\\Local\\Temp\\ipykernel_26824\\726755875.py:28: RuntimeWarning: invalid value encountered in divide\n",
      "  erro = ((u - u_ant) / u).max(axis=0)\n",
      "C:\\Users\\arthu\\AppData\\Local\\Temp\\ipykernel_26824\\726755875.py:11: RuntimeWarning: invalid value encountered in divide\n",
      "  erro = ((u - u_ant) / u).max(axis=0)\n"
     ]
    }
   ],
   "source": [
    "# Resolver o sistema de equações para obter os deslocamentos nodais\n",
    "ite = 100\n",
    "tol = 1e-10\n",
    "u_j, n_j = jacobi(ite, tol, Kg, F)\n",
    "u_gs, n_gs = gauss_seidel(ite, tol, Kg, F)\n",
    "\n",
    "print(\"Método de Jacobi\")\n",
    "print(u_j, n_j)\n",
    "print(\"-----------------------------\")\n",
    "print(\"Método de Gauss-Seidel\")\n",
    "print(u_gs, n_gs)"
   ]
  },
  {
   "cell_type": "code",
   "execution_count": 7,
   "metadata": {},
   "outputs": [],
   "source": [
    "# Calcular reações de apoio\t\n"
   ]
  },
  {
   "cell_type": "code",
   "execution_count": 8,
   "metadata": {},
   "outputs": [],
   "source": [
    "# Deformações"
   ]
  },
  {
   "cell_type": "code",
   "execution_count": 9,
   "metadata": {},
   "outputs": [],
   "source": [
    "# Forças internas"
   ]
  },
  {
   "cell_type": "code",
   "execution_count": 10,
   "metadata": {},
   "outputs": [],
   "source": [
    "# Tensões internas"
   ]
  }
 ],
 "metadata": {
  "kernelspec": {
   "display_name": "Python 3",
   "language": "python",
   "name": "python3"
  },
  "language_info": {
   "codemirror_mode": {
    "name": "ipython",
    "version": 3
   },
   "file_extension": ".py",
   "mimetype": "text/x-python",
   "name": "python",
   "nbconvert_exporter": "python",
   "pygments_lexer": "ipython3",
   "version": "3.10.6"
  }
 },
 "nbformat": 4,
 "nbformat_minor": 2
}
